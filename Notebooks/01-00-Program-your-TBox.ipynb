{
 "cells": [
  {
   "cell_type": "markdown",
   "metadata": {},
   "source": [
    "# Program your TBox\n",
    "Within this short tutorial we will show you how to create from code an ontology to formally represent terminological knowledge (TBox) [[Sab16]](https://doi.org/10.1007/978-3-319-41490-4_3).  "
   ]
  },
  {
   "cell_type": "markdown",
   "metadata": {},
   "source": [
    "We will use the python package  \n",
    "> rdflib\n",
    "\n",
    "for this purpose. Note that other implementations such as Owlready2 developed by Jean-Baptist Lamy for this purpose [[Lam17]](https://doi.org/10.1016/j.artmed.2017.07.002) exist."
   ]
  },
  {
   "cell_type": "markdown",
   "metadata": {},
   "source": [
    "We import rdflib and create an initial graph"
   ]
  },
  {
   "cell_type": "code",
   "execution_count": 1,
   "metadata": {},
   "outputs": [],
   "source": [
    "from rdflib import Graph , Literal , BNode , Namespace , RDF , RDFS , OWL , URIRef\n",
    "import os\n",
    "g = Graph()"
   ]
  },
  {
   "cell_type": "markdown",
   "metadata": {},
   "source": [
    "We will implement the creation of the ontology depicted below.\n",
    "<img src=\"../figures/SimpleOntology.png\" width=\"600\" />"
   ]
  },
  {
   "cell_type": "markdown",
   "metadata": {},
   "source": [
    "First let´s give our a child (the ontology) a name, e.g. \"https://example.org/myFamousOntology\". Effectively this means adding the following triple to your triple store. Note, rdflib stores the triples in a triple store in your local memory and if a redundant triple is added the triple is only, obviously, stored once."
   ]
  },
  {
   "cell_type": "code",
   "execution_count": 8,
   "metadata": {},
   "outputs": [],
   "source": [
    "s = URIRef( \"https://example.org/myFamousOntology\" )\n",
    "p = RDF.type\n",
    "o = OWL.ontology\n",
    "g.add( ( s , p , o ) )"
   ]
  },
  {
   "cell_type": "markdown",
   "metadata": {},
   "source": [
    "Lets see how it looks like with all written out namespaces:"
   ]
  },
  {
   "cell_type": "code",
   "execution_count": 9,
   "metadata": {},
   "outputs": [
    {
     "name": "stdout",
     "output_type": "stream",
     "text": [
      "(rdflib.term.URIRef('https://example.org/myFamousOntology'), rdflib.term.URIRef('http://www.w3.org/1999/02/22-rdf-syntax-ns#type'), rdflib.term.URIRef('http://www.w3.org/2002/07/owl#ontology'))\n",
      "(rdflib.term.URIRef('https://example.org/myFamousOntology#Aggregate'), rdflib.term.URIRef('http://www.w3.org/1999/02/22-rdf-syntax-ns#type'), rdflib.term.URIRef('http://www.w3.org/2002/07/owl#Class'))\n"
     ]
    }
   ],
   "source": [
    "for s, p, o in g:\n",
    "    print((s, p, o))"
   ]
  },
  {
   "cell_type": "markdown",
   "metadata": {},
   "source": [
    "All right and lets save it to a file in turtle format:"
   ]
  },
  {
   "cell_type": "code",
   "execution_count": 10,
   "metadata": {},
   "outputs": [
    {
     "name": "stdout",
     "output_type": "stream",
     "text": [
      "Created myFamousOntology.ttl in folder:\n",
      "/home/jovyan/Notebooks\n"
     ]
    }
   ],
   "source": [
    "g.serialize( destination = \"myFamousOntology.ttl\" , format = \"turtle\" )\n",
    "print( \"Created myFamousOntology.ttl in folder:\" )\n",
    "print( str( os.getcwd() ) )"
   ]
  },
  {
   "cell_type": "markdown",
   "metadata": {},
   "source": [
    "Lets add a new namespace for our ontology so that we can use it. Also add the OWL namespace."
   ]
  },
  {
   "cell_type": "code",
   "execution_count": 11,
   "metadata": {},
   "outputs": [],
   "source": [
    "g.bind( \"owl\" , OWL )\n",
    "\n",
    "NS = Namespace( \"https://example.org/myFamousOntology#\" )\n",
    "g.bind( \"ont\" , NS )"
   ]
  },
  {
   "cell_type": "markdown",
   "metadata": {},
   "source": [
    "Lets have a look at the outcome in the serialised file:"
   ]
  },
  {
   "cell_type": "code",
   "execution_count": 12,
   "metadata": {},
   "outputs": [
    {
     "name": "stdout",
     "output_type": "stream",
     "text": [
      "Created myFamousOntology.ttl in folder:\n",
      "/home/jovyan/Notebooks\n"
     ]
    }
   ],
   "source": [
    "g.serialize( destination = \"myFamousOntology.ttl\" , format = \"turtle\" )\n",
    "print( \"Created myFamousOntology.ttl in folder:\" )\n",
    "print( str( os.getcwd() ) )"
   ]
  },
  {
   "cell_type": "markdown",
   "metadata": {},
   "source": [
    "Lets add the concept (owl:Class) *Aggregate* as depicted above:"
   ]
  },
  {
   "cell_type": "code",
   "execution_count": 13,
   "metadata": {},
   "outputs": [],
   "source": [
    "s = NS[ \"Aggregate\" ]\n",
    "p = RDF.type\n",
    "o = OWL.Class\n",
    "g.add( ( s , p , o ) )"
   ]
  },
  {
   "cell_type": "markdown",
   "metadata": {},
   "source": [
    "Examine the result:"
   ]
  },
  {
   "cell_type": "code",
   "execution_count": 14,
   "metadata": {},
   "outputs": [
    {
     "name": "stdout",
     "output_type": "stream",
     "text": [
      "Created myFamousOntology.ttl in folder:\n",
      "/home/jovyan/Notebooks\n"
     ]
    }
   ],
   "source": [
    "g.serialize( destination = \"myFamousOntology.ttl\" , format = \"turtle\" )\n",
    "print( \"Created myFamousOntology.ttl in folder:\" )\n",
    "print( str( os.getcwd() ) )"
   ]
  },
  {
   "cell_type": "markdown",
   "metadata": {},
   "source": [
    "And similarly add other concepts:"
   ]
  },
  {
   "cell_type": "code",
   "execution_count": 15,
   "metadata": {},
   "outputs": [],
   "source": [
    "lConcepts = [ \"Part\" ,\n",
    "              \"BuildingElement\" ,\n",
    "              \"Space\" ,\n",
    "              \"BuildingEquipment\" ,\n",
    "              \"AirHandlingUnit\" ,\n",
    "              \"Sensor\" ]\n",
    "\n",
    "for concept in lConcepts:\n",
    "    s = NS[ concept ]\n",
    "    p = RDF.type\n",
    "    o = OWL.Class\n",
    "    g.add( ( s , p , o ) )"
   ]
  },
  {
   "cell_type": "markdown",
   "metadata": {},
   "source": [
    "Now we can add the inheritance relationship (rdfs:subClassOf):"
   ]
  },
  {
   "cell_type": "code",
   "execution_count": 16,
   "metadata": {},
   "outputs": [],
   "source": [
    "s = NS[ \"Space\" ]\n",
    "p = RDFS.subClassOf\n",
    "o = NS[ \"BuildingElement\" ]\n",
    "g.add( ( s , p , o ) )\n",
    "\n",
    "s = NS[ \"Sensor\" ]\n",
    "p = RDFS.subClassOf\n",
    "o = NS[ \"BuildingEquipment\" ]\n",
    "g.add( ( s , p , o ) )\n",
    "\n",
    "s = NS[ \"AirHandlingUnit\" ]\n",
    "p = RDFS.subClassOf\n",
    "o = NS[ \"BuildingEquipment\" ]\n",
    "g.add( ( s , p , o ) )"
   ]
  },
  {
   "cell_type": "markdown",
   "metadata": {},
   "source": [
    "Now we can add the object properties (owl:ObjectProperty):"
   ]
  },
  {
   "cell_type": "code",
   "execution_count": 17,
   "metadata": {},
   "outputs": [],
   "source": [
    "s = NS[ \"hasPart\" ]\n",
    "p = RDF.type\n",
    "o = OWL.ObjectProperty\n",
    "g.add( ( s , p , o ) )\n",
    "\n",
    "s = NS[ \"hasLocation\" ]\n",
    "p = RDF.type\n",
    "o = OWL.ObjectProperty\n",
    "g.add( ( s , p , o ) )"
   ]
  },
  {
   "cell_type": "markdown",
   "metadata": {},
   "source": [
    "And finally the produced file is:"
   ]
  },
  {
   "cell_type": "code",
   "execution_count": 18,
   "metadata": {},
   "outputs": [
    {
     "name": "stdout",
     "output_type": "stream",
     "text": [
      "Created myFamousOntology.ttl in folder:\n",
      "/home/jovyan/Notebooks\n"
     ]
    }
   ],
   "source": [
    "g.serialize( destination = \"myFamousOntology.ttl\" , format = \"turtle\" )\n",
    "print( \"Created myFamousOntology.ttl in folder:\" )\n",
    "print( str( os.getcwd() ) )"
   ]
  },
  {
   "cell_type": "code",
   "execution_count": null,
   "metadata": {},
   "outputs": [],
   "source": []
  }
 ],
 "metadata": {
  "kernelspec": {
   "display_name": "Python 3",
   "language": "python",
   "name": "python3"
  },
  "language_info": {
   "codemirror_mode": {
    "name": "ipython",
    "version": 3
   },
   "file_extension": ".py",
   "mimetype": "text/x-python",
   "name": "python",
   "nbconvert_exporter": "python",
   "pygments_lexer": "ipython3",
   "version": "3.7.3"
  }
 },
 "nbformat": 4,
 "nbformat_minor": 2
}
