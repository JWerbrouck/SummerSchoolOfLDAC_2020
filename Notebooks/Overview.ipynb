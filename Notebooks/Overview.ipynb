{
 "cells": [
  {
   "cell_type": "markdown",
   "metadata": {},
   "source": [
    "# The Coding Challenge of the Summer School of LDAC\n",
    "\n",
    "Welcome to the material associated to the coding challenge of the Summer School of LDAC (SSoLDAC). The material is presented as a set of jupyter notebooks, which you can navigate through and access the respective content. \n",
    "\n",
    "## Navigation\n",
    "\n",
    "To navigate between the different notebooks please always use the [Index](Index.ipynb) notebook.  \n",
    "\n",
    "## Objectives\n",
    "\n",
    "The tutorials are designed such that you can rapidly shape your skills in coding related tasks for Linked Building Data (LBD). The main objectives are:\n",
    "\n",
    "* Show you the basics of programming LBD applications  \n",
    "* Provide you rapidly with the ability to address real world research problems and start coding  \n",
    "\n",
    "In the [Getting Started](Index.ipynb) chapter we first show you step by step how to setup your programming environment. When using the mybinder.org or Colab service no additional installations are required.\n",
    "\n",
    "Next, in the chapter on [Guided Programming](Index.ipynb), we prepared small examples where you can examine in documented code how to step by step perform the most relevant tasks in LBD including the represention of terminological domain knowledge (TBox), populate your created TBox with assertional knowledge (ABox), store this knowledge in a knowledge base and query it using SPARQL.\n",
    "\n",
    "Finally, after working yourself quickly through chapter 1 the team of lecturers from SSoLDAC have prepared in chapter 2 [Coding Challenge](Index.ipynb) real world research problems, which you have to solve as a coding challenge. Feel free to check in advance. Tackle them and bring them down!"
   ]
  },
  {
   "cell_type": "code",
   "execution_count": null,
   "metadata": {},
   "outputs": [],
   "source": []
  }
 ],
 "metadata": {
  "kernelspec": {
   "display_name": "Python 3",
   "language": "python",
   "name": "python3"
  },
  "language_info": {
   "codemirror_mode": {
    "name": "ipython",
    "version": 3
   },
   "file_extension": ".py",
   "mimetype": "text/x-python",
   "name": "python",
   "nbconvert_exporter": "python",
   "pygments_lexer": "ipython3",
   "version": "3.7.3"
  }
 },
 "nbformat": 4,
 "nbformat_minor": 2
}
