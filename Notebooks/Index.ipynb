{
 "cells": [
  {
   "cell_type": "markdown",
   "metadata": {},
   "source": [
    "# Table of Contents\n",
    "\n",
    "## Introduction\n",
    "\n",
    "* [Overview](Overview.ipynb)  \n",
    "\n",
    "## Getting started\n",
    "\n",
    "* [00-00 Check Python Setup](00-00-Check-Python-Setup.ipynb)  \n",
    "* [00-01 Check Internet Connection](00-01-Check-Internet-Connection.ipynb)  \n",
    "* [00-02 Further Reading](00-02-Further-Reading.ipynb)  \n",
    "\n",
    "## Chapter 1 - Guided Programming\n",
    "\n",
    "* [01-00 Program your TBox](01-00-Program-your-TBox.ipynb)  \n",
    "* [01-01 Program your ABox](01-01-Program-your-ABox.ipynb)  \n",
    "* [01-02 Query a knowledge-base with SPARQL](01-02-Query-a-knowledge-base-with-SPARQL.ipynb)  \n",
    "\n",
    "## Chapter 2 - Topics for the **Coding Challenge**\n",
    "\n",
    "* [02-00 Publish Smart Home Sensor Data using SWT](02-00-Publish-Smart-Home-Sensor-Data-using-SWT.ipynb)  \n",
    "* [02-01 Integrate heterogeneous building product data](02-01-Integrate-heterogeneous-building-product-data.ipynb)  \n",
    "* [02-02 Automated Ontology Matching in the Built Environment](02-02-Automated-Ontology-Matching-in-the-Built-Environment.ipynb)  \n",
    "* [02-03 Extraction and Semantic Annotation of Geometry Data from IFC](02-03-Geometry-Coding-Challenge.ipynb)  \n",
    "* [02-04 Generation of 3D Virtual Reality Scene from Linked Building Data](02-04-Generation-VR-Coding-Challenge.ipynb)  \n",
    "* [02-05 Open Data Model for AEC Industry](02-05-Open-Datamodel-Coding-Challenge.ipynb)  \n",
    "\n",
    "## Chapter 3 - Lecture Notes and Tutorials\n",
    "\n",
    "* [03-00 Geo BIM Tutorial](03-00-geo-bim-tutorial.ipynb)  \n",
    "* [03-01 Introduction to Node-Red](03-01-Node-Red-Tutorial.ipynb)  \n",
    "* [03-02 Introduction to Linked Data and Semantic Web: The Basics](03-02-Intro-LD-and-SWT.ipynb)  \n",
    "* [03-03 Introduction to querying Linked Data](03-03-Introduction-to-querying-Linked-Data.ipynb)  \n",
    "\n"
   ]
  },
  {
   "cell_type": "code",
   "execution_count": null,
   "metadata": {},
   "outputs": [],
   "source": []
  }
 ],
 "metadata": {
  "kernelspec": {
   "display_name": "Python 3",
   "language": "python",
   "name": "python3"
  },
  "language_info": {
   "codemirror_mode": {
    "name": "ipython",
    "version": 3
   },
   "file_extension": ".py",
   "mimetype": "text/x-python",
   "name": "python",
   "nbconvert_exporter": "python",
   "pygments_lexer": "ipython3",
   "version": "3.7.3"
  }
 },
 "nbformat": 4,
 "nbformat_minor": 2
}
