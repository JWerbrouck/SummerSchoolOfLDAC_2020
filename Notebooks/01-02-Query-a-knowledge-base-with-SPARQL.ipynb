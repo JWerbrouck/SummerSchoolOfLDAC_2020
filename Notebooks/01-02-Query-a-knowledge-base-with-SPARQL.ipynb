{
 "cells": [
  {
   "cell_type": "markdown",
   "metadata": {},
   "source": [
    "# Query a knowledge base with SPARQL\n",
    "\n",
    "Within this short tutorial you will perform different queries on an available knowledge base using [SPARQL Protocol and RDF Query\n",
    "Language (SPARQL)](https://www.w3.org/TR/rdf-sparql-query/). For this purpose we will use the Open Smart Home (OSH) data set [1], which is available from a [web-repository](https://github.com/TechnicalBuildingSystems/OpenSmartHomeData) for download and as well stored (partially) in a [triplestore](https://rdf.ontotext.com/4139541402/mydb/repositories/OpenSmartHomeDataSet) publicly on the web.\n",
    "\n",
    "[1] Schneider, G. F., Rasmussen, M. H., Bonsma, P., Oraskari, J., & Pauwels, P. (2018). *Linked building data for modular building information modelling of a smart home*. In 11th European Conference on Product and Process Modelling (pp. 407-414). CRC Press.\n"
   ]
  },
  {
   "cell_type": "markdown",
   "metadata": {},
   "source": [
    "The utilised triple store, GraphDB Cloud by Ontotext, implements a REST API to process queries. Hence, we use the ```requests``` package for performing this task:"
   ]
  },
  {
   "cell_type": "code",
   "execution_count": 1,
   "metadata": {},
   "outputs": [],
   "source": [
    "import requests"
   ]
  },
  {
   "cell_type": "markdown",
   "metadata": {},
   "source": [
    "Specify the endpoint of the OSH and some HTTP headers:"
   ]
  },
  {
   "cell_type": "code",
   "execution_count": 2,
   "metadata": {},
   "outputs": [
    {
     "name": "stdout",
     "output_type": "stream",
     "text": [
      "Will connect to endpoint:  https://rdf.ontotext.com/4139541402/mydb/repositories/OpenSmartHomeDataSet\n"
     ]
    }
   ],
   "source": [
    "endpoint = \"https://rdf.ontotext.com/4139541402/mydb/repositories/OpenSmartHomeDataSet\"\n",
    "print( \"Will connect to endpoint: \" , endpoint )\n",
    "\n",
    "headers = { \"Accept\" : \"application/sparql-results+json\" ,\n",
    "            \"Content-Type\" : \"application/x-www-form-urlencoded\" }"
   ]
  },
  {
   "cell_type": "markdown",
   "metadata": {},
   "source": [
    "Compose and send your first SPARQL query asking for instances of type ```bot:Building```:"
   ]
  },
  {
   "cell_type": "code",
   "execution_count": 3,
   "metadata": {},
   "outputs": [
    {
     "name": "stdout",
     "output_type": "stream",
     "text": [
      "Request Code: 200\n",
      "Found these buildings: \n",
      "https://w3id.org/ibp/osh/OpenSmartHomeDataSet#Building1\n"
     ]
    }
   ],
   "source": [
    "query = \"\"\"PREFIX bot: <https://w3id.org/bot#>\n",
    "PREFIX rdf: <http://www.w3.org/1999/02/22-rdf-syntax-ns#>\n",
    "\n",
    "SELECT ?building\n",
    "WHERE{ ?building rdf:type bot:Building }\"\"\"\n",
    "\n",
    "req = requests.post( endpoint ,\n",
    "                     headers = headers ,\n",
    "                     data = \"query=\" + query )\n",
    "\n",
    "# Response status code, should be 200\n",
    "print( \"Request Code: {}\".format( req.status_code ) )\n",
    "\n",
    "if req.status_code == 200:\n",
    "    print( \"Found these buildings: \" )\n",
    "    response = req.json()\n",
    "    print( response[ \"results\" ][ \"bindings\" ][ 0 ][ \"building\" ][ \"value\" ] )"
   ]
  },
  {
   "cell_type": "markdown",
   "metadata": {},
   "source": [
    "Query for all spaces (```bot:Space```):"
   ]
  },
  {
   "cell_type": "code",
   "execution_count": 4,
   "metadata": {},
   "outputs": [
    {
     "name": "stdout",
     "output_type": "stream",
     "text": [
      "Request Code: 200\n",
      "Found these spaces: \n",
      "https://w3id.org/ibp/osh/OpenSmartHomeDataSet#Lobby\n",
      "https://w3id.org/ibp/osh/OpenSmartHomeDataSet#Room1\n",
      "https://w3id.org/ibp/osh/OpenSmartHomeDataSet#Room2\n",
      "https://w3id.org/ibp/osh/OpenSmartHomeDataSet#Room3\n",
      "https://w3id.org/ibp/osh/OpenSmartHomeDataSet#Toilet\n",
      "https://w3id.org/ibp/osh/OpenSmartHomeDataSet#RoomBeforeToilet\n",
      "https://w3id.org/ibp/osh/OpenSmartHomeDataSet#Staircase\n",
      "https://w3id.org/ibp/osh/OpenSmartHomeDataSet#Bathroom\n",
      "https://w3id.org/ibp/bot4osh/room_05b047f8-dd03-4cd9-a50c-d5d18c6f7ab7-0004e1c7\n",
      "https://w3id.org/ibp/bot4osh/room_05b047f8-dd03-4cd9-a50c-d5d18c6f7ab7-0004e058\n",
      "https://w3id.org/ibp/bot4osh/room_05b047f8-dd03-4cd9-a50c-d5d18c6f7ab7-0004e061\n",
      "https://w3id.org/ibp/bot4osh/room_05b047f8-dd03-4cd9-a50c-d5d18c6f7ab7-0004e05e\n",
      "https://w3id.org/ibp/bot4osh/room_05b047f8-dd03-4cd9-a50c-d5d18c6f7ab7-0004e064\n",
      "https://w3id.org/ibp/bot4osh/room_05b047f8-dd03-4cd9-a50c-d5d18c6f7ab7-0004e055\n",
      "https://w3id.org/ibp/bot4osh/room_05b047f8-dd03-4cd9-a50c-d5d18c6f7ab7-0004e052\n",
      "https://w3id.org/ibp/bot4osh/room_05b047f8-dd03-4cd9-a50c-d5d18c6f7ab7-0004e04f\n",
      "https://w3id.org/ibp/bot4osh/room_05b047f8-dd03-4cd9-a50c-d5d18c6f7ab7-0004e175\n"
     ]
    }
   ],
   "source": [
    "query = \"\"\"PREFIX bot: <https://w3id.org/bot#>\n",
    "PREFIX rdf: <http://www.w3.org/1999/02/22-rdf-syntax-ns#>\n",
    "\n",
    "SELECT ?space\n",
    "WHERE{ ?space rdf:type bot:Space }\"\"\"\n",
    "\n",
    "req = requests.post( endpoint ,\n",
    "                     headers = headers ,\n",
    "                     data = \"query=\" + query )\n",
    "\n",
    "# Response status code, should be 200\n",
    "print( \"Request Code: {}\".format( req.status_code ) )\n",
    "\n",
    "if req.status_code == 200:\n",
    "    print( \"Found these spaces: \" )\n",
    "    response = req.json()\n",
    "    for i in range( 1 , len( response[ \"results\" ][ \"bindings\" ] ) ):\n",
    "        print( response[ \"results\" ][ \"bindings\" ][ i ][ \"space\" ][ \"value\" ] )"
   ]
  },
  {
   "cell_type": "markdown",
   "metadata": {},
   "source": [
    "Query for all instances of ```bot:Element```:"
   ]
  },
  {
   "cell_type": "code",
   "execution_count": 5,
   "metadata": {},
   "outputs": [
    {
     "name": "stdout",
     "output_type": "stream",
     "text": [
      "Request Code: 200\n",
      "Found these elements: \n",
      "https://w3id.org/ibp/bot4osh/door_05b047f8-dd03-4cd9-a50c-d5d18c6f7ab7-0004e3d9\n",
      "https://w3id.org/ibp/bot4osh/wall_05b047f8-dd03-4cd9-a50c-d5d18c6f7ab7-0004d96f\n",
      "https://w3id.org/ibp/bot4osh/wall_05b047f8-dd03-4cd9-a50c-d5d18c6f7ab7-0004dae1\n",
      "https://w3id.org/ibp/bot4osh/wall_05b047f8-dd03-4cd9-a50c-d5d18c6f7ab7-0004d9a0\n",
      "https://w3id.org/ibp/bot4osh/window_52a273d7-fd5d-4d87-b824-a5c3f59901cc-0004eb9e\n",
      "https://w3id.org/ibp/bot4osh/wall_05b047f8-dd03-4cd9-a50c-d5d18c6f7ab7-0004de3e\n",
      "https://w3id.org/ibp/bot4osh/wall_05b047f8-dd03-4cd9-a50c-d5d18c6f7ab7-0004db10\n",
      "https://w3id.org/ibp/bot4osh/door_05b047f8-dd03-4cd9-a50c-d5d18c6f7ab7-0004e897\n",
      "https://w3id.org/ibp/bot4osh/wall_05b047f8-dd03-4cd9-a50c-d5d18c6f7ab7-0004dbc4\n",
      "https://w3id.org/ibp/bot4osh/wall_05b047f8-dd03-4cd9-a50c-d5d18c6f7ab7-0004d93d\n",
      "https://w3id.org/ibp/bot4osh/door_05b047f8-dd03-4cd9-a50c-d5d18c6f7ab7-0004e823\n",
      "https://w3id.org/ibp/bot4osh/wall_05b047f8-dd03-4cd9-a50c-d5d18c6f7ab7-0004e027\n",
      "https://w3id.org/ibp/bot4osh/door_05b047f8-dd03-4cd9-a50c-d5d18c6f7ab7-0004e84d\n",
      "https://w3id.org/ibp/bot4osh/window_52a273d7-fd5d-4d87-b824-a5c3f59901cc-0004eb0d\n",
      "https://w3id.org/ibp/bot4osh/door_05b047f8-dd03-4cd9-a50c-d5d18c6f7ab7-0004e271\n",
      "https://w3id.org/ibp/bot4osh/window_52a273d7-fd5d-4d87-b824-a5c3f59901cc-0004e9d3\n",
      "https://w3id.org/ibp/bot4osh/wall_05b047f8-dd03-4cd9-a50c-d5d18c6f7ab7-0004dc66\n",
      "https://w3id.org/ibp/bot4osh/window_52a273d7-fd5d-4d87-b824-a5c3f59901cc-0004e962\n",
      "https://w3id.org/ibp/bot4osh/window_52a273d7-fd5d-4d87-b824-a5c3f59901cc-0004eab4\n",
      "https://w3id.org/ibp/bot4osh/wall_05b047f8-dd03-4cd9-a50c-d5d18c6f7ab7-0004d8eb\n",
      "https://w3id.org/ibp/bot4osh/wall_05b047f8-dd03-4cd9-a50c-d5d18c6f7ab7-0004da52\n",
      "https://w3id.org/ibp/bot4osh/wall_05b047f8-dd03-4cd9-a50c-d5d18c6f7ab7-0004dcc3\n",
      "https://w3id.org/ibp/bot4osh/wall_05b047f8-dd03-4cd9-a50c-d5d18c6f7ab7-0004dc15\n",
      "https://w3id.org/ibp/bot4osh/door_05b047f8-dd03-4cd9-a50c-d5d18c6f7ab7-0004e7b4\n",
      "https://w3id.org/ibp/bot4osh/window_52a273d7-fd5d-4d87-b824-a5c3f59901cc-0004ea0d\n",
      "https://w3id.org/ibp/bot4osh/wall_05b047f8-dd03-4cd9-a50c-d5d18c6f7ab7-0004da28\n",
      "https://w3id.org/ibp/bot4osh/door_05b047f8-dd03-4cd9-a50c-d5d18c6f7ab7-0004e345\n",
      "https://w3id.org/ibp/bot4osh/window_52a273d7-fd5d-4d87-b824-a5c3f59901cc-0004ebd8\n",
      "https://w3id.org/ibp/bot4osh/door_05b047f8-dd03-4cd9-a50c-d5d18c6f7ab7-0004e1d4\n"
     ]
    }
   ],
   "source": [
    "query = \"\"\"PREFIX bot: <https://w3id.org/bot#>\n",
    "PREFIX rdf: <http://www.w3.org/1999/02/22-rdf-syntax-ns#>\n",
    "\n",
    "SELECT ?element\n",
    "WHERE{ ?element rdf:type bot:Element }\"\"\"\n",
    "\n",
    "req = requests.post( endpoint ,\n",
    "                     headers = headers ,\n",
    "                     data = \"query=\" + query )\n",
    "\n",
    "# Response status code, should be 200\n",
    "print( \"Request Code: {}\".format( req.status_code ) )\n",
    "\n",
    "if req.status_code == 200:\n",
    "    print( \"Found these elements: \" )\n",
    "    response = req.json()\n",
    "    for i in range( 1 , len( response[ \"results\" ][ \"bindings\" ] ) ):\n",
    "        print( response[ \"results\" ][ \"bindings\" ][ i ][ \"element\" ][ \"value\" ] )"
   ]
  },
  {
   "cell_type": "markdown",
   "metadata": {},
   "source": [
    "Find elements in the kitchen using ```bot:containsElement``` relationship:"
   ]
  },
  {
   "cell_type": "code",
   "execution_count": 6,
   "metadata": {},
   "outputs": [
    {
     "name": "stdout",
     "output_type": "stream",
     "text": [
      "Request Code: 200\n",
      "Found these locations: \n",
      "https://w3id.org/ibp/osh/OpenSmartHomeDataSet#Kitchen-tempT-Sensor\n",
      "https://w3id.org/ibp/osh/OpenSmartHomeDataSet#Kitchen-humid-Sensor\n",
      "https://w3id.org/ibp/osh/OpenSmartHomeDataSet#Kitchen-brigh-Sensor\n",
      "https://w3id.org/ibp/osh/OpenSmartHomeDataSet#Kitchen-tempS-Actuator\n",
      "https://w3id.org/ibp/osh/OpenSmartHomeDataSet#Kitchen-heater\n"
     ]
    }
   ],
   "source": [
    "query = \"\"\"PREFIX bot: <https://w3id.org/bot#>\n",
    "PREFIX osh: <https://w3id.org/ibp/osh/OpenSmartHomeDataSet#>\n",
    "\n",
    "SELECT ?element\n",
    "WHERE{ osh:Kitchen bot:containsElement ?element }\"\"\"\n",
    "\n",
    "req = requests.post( endpoint ,\n",
    "                     headers = headers ,\n",
    "                     data = \"query=\" + query )\n",
    "\n",
    "# Response status code, should be 200\n",
    "print( \"Request Code: {}\".format( req.status_code ) )\n",
    "\n",
    "if req.status_code == 200:\n",
    "    print( \"Found these locations: \" )\n",
    "    response = req.json()\n",
    "    for i in range( 1 , len( response[ \"results\" ][ \"bindings\" ] ) ):\n",
    "        print( response[ \"results\" ][ \"bindings\" ][ i ][ \"element\" ][ \"value\" ] )"
   ]
  },
  {
   "cell_type": "markdown",
   "metadata": {},
   "source": [
    "Ask for the database identifier of a temperature sensor in room with IFC guid ```05i4VutGDCsQKCrT6CQvhu```:"
   ]
  },
  {
   "cell_type": "code",
   "execution_count": 7,
   "metadata": {},
   "outputs": [
    {
     "name": "stdout",
     "output_type": "stream",
     "text": [
      "The database ID is:\n",
      "Room1Temp\n"
     ]
    }
   ],
   "source": [
    "query = \"\"\"PREFIX express: <http://purl.org/voc/express#>\n",
    "PREFIX bot: <https://w3id.org/bot#>\n",
    "PREFIX rdf: <http://www.w3.org/1999/02/22-rdf-syntax-ns#>\n",
    "PREFIX dog: <http://elite.polito.it/ontologies/dogont.owl#>\n",
    "PREFIX seas: <https://w3id.org/seas/>\n",
    "PREFIX dcterms: <http://purl.org/dc/terms/>\n",
    "PREFIX skos: <http://www.w3.org/2004/02/skos/core#>\n",
    "PREFIX ifc: <http://www.buildingsmart-tech.org/ifcOWL/IFC4_ADD1#>\n",
    "\n",
    "SELECT ?SensorIdent\n",
    "WHERE{\n",
    "?ifcglobID express:hasString \"05i4VutGDCsQKCrT6CQvhu\" .\n",
    "?roomIFC ifc:globalId_IfcRoot ?ifcglobID .\n",
    "?room skos:related ?roomIFC .\n",
    "?room bot:containsElement ?TempSensor .\n",
    "?TempSensor rdf:type dog:TemperatureSensor .\n",
    "?TempSensor seas:connectsAt/dcterms:identifier ?SensorIdent .\n",
    "}\"\"\"\n",
    "\n",
    "req = requests.post( endpoint ,\n",
    "                     headers = headers ,\n",
    "                     data = \"query=\" + query )\n",
    "\n",
    "if req.status_code == 200:\n",
    "    print( \"The database ID is:\" )\n",
    "    response = req.json()\n",
    "    print( response[ \"results\" ][ \"bindings\" ][ 0 ][ \"SensorIdent\" ][ \"value\" ] )"
   ]
  },
  {
   "cell_type": "markdown",
   "metadata": {},
   "source": [
    "# Now it is your turn!"
   ]
  },
  {
   "cell_type": "markdown",
   "metadata": {},
   "source": [
    "Compose a query implementing a question you always wanted to ask to a building knowledge base!\n",
    "\n",
    "Verify your SPARQL query [here](http://www.sparql.org/query-validator.html); Checkout the turtle serialisations of the [OSH](https://github.com/TechnicalBuildingSystems/OpenSmartHomeData)."
   ]
  },
  {
   "cell_type": "code",
   "execution_count": 8,
   "metadata": {},
   "outputs": [
    {
     "name": "stdout",
     "output_type": "stream",
     "text": [
      "Request Code: 400\n"
     ]
    }
   ],
   "source": [
    "# Specify your SPARQL query; Do not forget PREFIXes:\n",
    "query = \"\"\"PREFIX bot: <https://w3id.org/bot#>\n",
    "PREFIX osh: <https://w3id.org/ibp/osh/OpenSmartHomeDataSet#>\n",
    "\n",
    "SELECT <YOUR VARIABLES GO HERE>\n",
    "WHERE{ <YOUR QUERY GOES HERE> }\"\"\"\n",
    "\n",
    "req = requests.post( endpoint ,\n",
    "                     headers = headers ,\n",
    "                     data = \"query=\" + query )\n",
    "\n",
    "# Response status code, should be 200\n",
    "print( \"Request Code: {}\".format( req.status_code ) )\n",
    "\n",
    "if req.status_code == 200:\n",
    "    print( \"Found these <ONE OF YOUR VARIABLES GO HERE>s: \" )\n",
    "    response = req.json()\n",
    "    for i in range( 1 , len( response[ \"results\" ][ \"bindings\" ] ) ):\n",
    "        print( response[ \"results\" ][ \"bindings\" ][ i ][ \"<ONE OF YOUR VARIABLES GO HERE>\" ][ \"value\" ] )"
   ]
  }
 ],
 "metadata": {
  "kernelspec": {
   "display_name": "Python 3",
   "language": "python",
   "name": "python3"
  },
  "language_info": {
   "codemirror_mode": {
    "name": "ipython",
    "version": 3
   },
   "file_extension": ".py",
   "mimetype": "text/x-python",
   "name": "python",
   "nbconvert_exporter": "python",
   "pygments_lexer": "ipython3",
   "version": "3.7.3"
  }
 },
 "nbformat": 4,
 "nbformat_minor": 2
}
