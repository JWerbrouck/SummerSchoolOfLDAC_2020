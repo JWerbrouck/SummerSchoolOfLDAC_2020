{
 "cells": [
  {
   "cell_type": "markdown",
   "metadata": {},
   "source": [
    "# Introduction to querying Linked Data\n",
    "\n",
    "Edited by: [Mads Holten Rasmussen](https://www.researchgate.net/profile/Mads_Holten_Rasmussen)  \n",
    "    \n",
    "Slides are available [online](http://www.student.dtu.dk/~mhoras/presentations/ssoldac)\n",
    "Content of this NB are also available as [.md](03-03-Introduction-to-querying-Linked-Data.md)\n",
    "\n",
    "This document outlines a set of exercises that will introduce xx\n",
    "\n",
    "#### Learning objectives\t\n",
    "-\tUnderstand what graphs are and how they can be used to organise information\n",
    "-\tUnderstand the role of graphs in the future of BIM\n",
    "-\tConstruct a graph of a space / spaces of a building\n",
    "\n",
    "#### Introduction\n",
    "With reference to the lecture on *\"Linked Data and the Semantic Web: The Basics\"* the scope of these exercises is to gain hands on experience with graphs and the Resource Description Framework (RDF) and the Simple Protocol And Rdf Query Language (SPARQL).\n",
    "\n",
    "## 1. Writing triples\n",
    "Follow the instructions at tab *1. Sample Data* on [this page](https://madsholten.github.io/sparql-visualizer) and create a SPARQL visualizer of your own. This requires that you save a JSON file somewhere publicly available (Dropbox or Gist).\n",
    "\n",
    "In the “Triples” panel you see the nodes and edges described using the following syntax:\n",
    "`<nodeA> <edge> <nodeB> .`\n",
    "Note the period sign in the end. This is important as it indicates that the first “triple” is finished. One of the principles of Linked Data is to use Uniform Resource Identifiers (URIs) to name the triple subcomponents but for now we will use this simplified syntax. SPARQL is the name of the query language that we use to query an RDF graph.\n",
    "\n",
    "#### 1. Digitize your hand drawn graph\n",
    "Use this simple syntax to define nodes and edges of the graph you have drawn with pen and paper.\n",
    "\n",
    "Follow the instructions at tab *1. Sample Data* and provide the full URL to the SPARQL-visualizer you have generated.\n",
    "\n",
    "#### 2. Query the graph\n",
    "In the first *“Query”* tab you see the query that returns the graph. The WHERE clause is where the triple pattern match is given. Anything prefixed with a `?` indicates a variable, so what this says is basically “Give me anything that matches `‘anyNodeA’, ‘anyEdge’, ‘anyNodeB’`.” You can restrict the result by replacing one of the three variables with a constant, so try changing `?nodeA` to one of the nodes from the *“Triples”* tab and fire the query to see the graph change.\n",
    "\n",
    "Provide a description and copy the dataset to a new tab in your JSON-file. Provide the full URL.\n",
    "\n",
    "#### 3. From graph to table\n",
    "A CONSTRUCT query returns the resulting graph. Another query type, the SELECT query returns the values of the variables. Replace `CONSTRUCT` with `SELECT *` and fire the query to see what happens. Asterisk (`*`) indicate that all variables must be returned and providing one or more variable name(s) (eg. `?nodeA`) will return only this/these variable(s).\n",
    "Tip: Adding the keyword `DISTINCT` after `SELECT` will return only the unique values\n",
    "Change the query to return the names of all the edge names you have used and create a new tab. Provide the full URL.\n",
    "\n",
    "#### 4. More queries\n",
    "Open task. Build an interesting query by extending the path with another set of triples or make an interesting analysis on your dataset. Add it as a separate tab with a proper description of what the query does and provide the full URL.\n",
    "\n",
    "#### Resources\n",
    "RDF 1.1 primer: \thttps://www.w3.org/TR/rdf11-primer/ \n",
    "SPARQL 1.1 Query Language: \thttps://www.w3.org/TR/sparql11-query/ \n"
   ]
  },
  {
   "cell_type": "code",
   "execution_count": null,
   "metadata": {},
   "outputs": [],
   "source": []
  }
 ],
 "metadata": {
  "kernelspec": {
   "display_name": "Python 3",
   "language": "python",
   "name": "python3"
  },
  "language_info": {
   "codemirror_mode": {
    "name": "ipython",
    "version": 3
   },
   "file_extension": ".py",
   "mimetype": "text/x-python",
   "name": "python",
   "nbconvert_exporter": "python",
   "pygments_lexer": "ipython3",
   "version": "3.7.3"
  }
 },
 "nbformat": 4,
 "nbformat_minor": 2
}
