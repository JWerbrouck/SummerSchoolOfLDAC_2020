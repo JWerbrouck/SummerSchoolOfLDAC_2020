{
 "cells": [
  {
   "cell_type": "markdown",
   "metadata": {},
   "source": [
    "# Further reading\n",
    "A large body of literature and textbooks dedicated to Semantic Web Technologies in general and Linked Building Data in particular can be found. Please find below a non-comprehensive list of references on the topic:\n",
    "\n",
    "\n",
    "| **Acronym** | **Reference** |\n",
    "| :-: | :- |  \n",
    "| [Sab16] | M. Sabou. *An Introduction to SemanticWeb Technologies*. In S. Biffl and M. Sabou, editors, Semantic Web Technologies for Intelligent Engineering Applications, pages 53–84. Springer International Publishing, Cham, Switzerland, 2016, DOI: [10.1007/978-3-319-41490-4_3](https://doi.org/10.1007/978-3-319-41490-4_3). |\n",
    "| [DFH11] | J. Domingue, D. Fensel, and J. A. Hendler. *Handbook of semantic web technologies*. Springer, Berlin, Germany, 2011, DOI: [10.1007/978-3-540-92913-0](https://doi.org/10.1007/978-3-540-92913-0). |\n",
    "| [PZL17] | P. Pauwels, S. Zhang, and Y.-C. Lee. *Semantic web technologies in AEC industry: A literature overview*. Automation in Construction, 73:145–165, 2017, DOI: [10.1016/j.autcon.2016.10.003](https://doi.org/10.1016/j.autcon.2016.10.003). |\n",
    "| [PMTB18] | Pauwels, P., McGlinn, K., Törmä, S. and Beetz, J. (2018). Linked Data. In Building Information Modeling (pp. 181-197). Springer, Cham., DOI: [10.1007/978-3-319-92862-3_10](https://doi.org/10.1007/978-3-319-92862-3_10). |\n",
    "| [Sch19] | G. F. Schneider. *A - Foundations of the Semantic Web* in Semantic Modelling of Control Logic in Automation Systems - Knowledge-Based Support of the Engineering and Operation of Control Logic in Building and Industrial Automation Systems. Fakultät für Maschinenbau, Karlsruher Institut für Technologie (KIT), Karlsruhe, DOI: [10.5445/IR/1000092405](https://doi.org/10.1016/10.5445/IR/1000092405). |\n",
    "| [Lam17] | J.-B. Lamy. *Owlready: Ontology-oriented programming in Python with automatic classification and high level constructs for biomedical ontologies*. Artificial Intelligence In Medicine 2017, 80:11-28 [10.1016/j.artmed.2017.07.002](https://doi.org/10.1016/j.artmed.2017.07.002) |\n",
    "| [Ras2017a] | Mads Holten Rasmussen, Pieter Pauwels, Christian Anker Hviid and Jan Karlshøj (2017) *Proposing a Central AEC Ontology That Allows for Domain Specific Extensions*, Lean and Computing in Construction Congress (LC3): Volume I – Proceedings of the Joint Conference on Computing in Construction (JC3), July 4-7, 2017, Heraklion, Greece, pp. 237-244 [http://itc.scix.net/cgi-bin/works/Show?lc3-2017-153](http://itc.scix.net/cgi-bin/works/Show?lc3-2017-153) |\n",
    "| [Ras2017b] | Mads Holten Rasmussen, Pieter Pauwels, Maxime Lefrançois, Georg Ferdinand Schneider, Christian Anker Hviid and Jan Karlshøj (2017) *Recent changes in the Building Topology Ontology*, 5th Linked Data in Architecture and Construction Workshop (LDAC2017), November 13-15, 2017, Dijon, France, [https://www.researchgate.net/publication/320631574_Recent_changes_in_the_Building_Topology_Ontology](https://www.researchgate.net/publication/320631574_Recent_changes_in_the_Building_Topology_Ontology) |"
   ]
  },
  {
   "cell_type": "code",
   "execution_count": null,
   "metadata": {},
   "outputs": [],
   "source": []
  }
 ],
 "metadata": {
  "kernelspec": {
   "display_name": "Python 3",
   "language": "python",
   "name": "python3"
  },
  "language_info": {
   "codemirror_mode": {
    "name": "ipython",
    "version": 3
   },
   "file_extension": ".py",
   "mimetype": "text/x-python",
   "name": "python",
   "nbconvert_exporter": "python",
   "pygments_lexer": "ipython3",
   "version": "3.7.3"
  }
 },
 "nbformat": 4,
 "nbformat_minor": 2
}
