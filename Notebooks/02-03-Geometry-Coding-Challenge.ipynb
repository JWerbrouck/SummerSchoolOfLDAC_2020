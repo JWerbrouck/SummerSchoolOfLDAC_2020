{
 "cells": [
  {
   "cell_type": "markdown",
   "metadata": {},
   "source": [
    "# Extraction and Semantic Annotation of Geometry Data from IFC\n",
    "\n",
    "Lecturer: **Mathias Bonduel**, [RG](https://www.researchgate.net/profile/Mathias_Bonduel)  \n",
    "Lecturer: **Kris McGlinn**, [RG](https://www.researchgate.net/profile/Dr_Kris_Mcglinn)  \n",
    "Lecturer: **Anna Wagner**, [RG](https://www.researchgate.net/profile/Anna_Wagner13)   \n",
    "\n",
    "### Problem Description\n",
    "\n",
    "Different workflows exist to acquire from building data instances (Abox) according to the Linked Building Data (LBD) ontologies [BOT](https://w3id.org/bot#), [PRODUCT](https://github.com/w3c-lbd-cg/product), [PROPS](https://github.com/w3c-lbd-cg/props), [OPM](https://github.com/w3c-lbd-cg/opm), etc. [1]. Besides creating LBD ABox triples from scratch with a dedicated application, it is also possible to reuse existing models exported using the [IFC (Industry Foundation Classes)](http://www.buildingsmart-tech.org/ifc/IFC4/Add2/html/) format. An initial tool, the [IFCtoLBD converter](https://github.com/jyrkioraskari/IFCtoLBD), was developed in 2018 [2] and is open-source. In the initial phase, the focus was on representing IFC data using BOT, PROPS and PRODUCT, while neglecting the geometrical part. An additional feature was merged later on, making it possible to convert the georeferenced of the IFC model using GeoSPARQL.\n",
    "\n",
    "New developments regarding the linking of geometry descriptions to other building data in RDF have occurred since the initial releases. More precisely, the [Ontology for Managing Geometry (OMG)](https://w3id.org/omg#) and its extension named the [File Ontology for Geometry formats (FOG)](https://w3id.org/fog#) are suggested to standardize the linking towards a wide variety of geometry descriptions. This includes, besides other methods, geometry descriptions embedded in RDF literals and RDF literals referring to external files. Using one of these methods, the geometry description can be structured internally according to common geometry schemas (e.g. OBJ, STL, STEP, etc.) for easy reuse in existing applications.\n",
    "\n",
    "Within the coding challenge you will work on the following tasks:\n",
    "\n",
    "* extend the current version of the IFCtoLBD converter with options to also convert the geometrical part of IFC building models.\n",
    "\n",
    "\n",
    "### Research Questions\n",
    "\n",
    "* RQ1: How can geometry of individual IFC elements be converted to geometry descriptions utilizing existing geometry schemas (e.g. OBJ, STL, STEP, glTF, DAE, etc.) and subsequently linked to individual BOT building elements in RDF?   \n",
    "* RQ2: Which of the two suggested approaches to represent geometry in RDF is best suited for specific use cases in the building industry? Embedding geometry descriptions in RDF literals or linking to external files?  \n",
    "\n",
    "### Dataset\n",
    "\n",
    "Several IFC models exists on the web, which could be used in your investigations.\n",
    "\n",
    "* [Duplex Apartment House as IFC](https://portal.nibs.org/files/wl/?id=4DsTgHFQAcOXzFetxbpRCECPbbfUqpgo)  \n",
    "* [OSH Flat as IFC](https://github.com/TechnicalBuildingSystems/OpenSmartHomeData/blob/master/04_Flat.ifc)  \n",
    "* [Open IFC model server](http://openifcmodel.cs.auckland.ac.nz/Model)\n",
    "\n",
    "### Tools\n",
    "\n",
    "The existing version of the [IFCtoLBD](https://github.com/jyrkioraskari/IFCtoLBD) converter is published on Github: . Please fork from this repository and submit a pull-request whenever ready. You need a (free) Github account for this purpose. The application is coded in Java and utilizes an IFC parser from the [IFCtoRDF](https://github.com/pipauwel/IFCtoRDF) library for interpreting the input [IFC](http://www.buildingsmart-tech.org/ifc/IFC4/Add2/html/) and the [Jena library](https://jena.apache.org/) for creating the RDF triples. The open source IfcOpenShell project contains methods to read and convert IFC geometry [3], but other applications might also be useful or serve as a source of inspiration (e.g. [4]).\n",
    "\n",
    "### References\n",
    "\n",
    "[1] M. Bonduel, M. H. Rasmussen, P. Pauwels, M. Vergauwen, and R. Klein, [*A novel workflow to combine BIM and Linked Data for existing buildings*](https://lirias2repo.kuleuven.be/bitstream/id/517103/), in 12th European Conference on Product and Process Modelling (ECPPM), 2018.  \n",
    "[2] M. Bonduel, J. Oraskari, P. Pauwels, M. Vergauwen, and R. Klein, [*The IFC to Linked Building Data Converter - Current Status*](http://ceur-ws.org/Vol-2159/04paper.pdf) in 6th Linked Data in Architecture and Construction Workshop (LDAC), CEUR Workshop Proceedings, 2018.  \n",
    "[3] T. Krijnen, *IfcOpenShell: the open source ifc toolkit and geometry engine* 2019. [Online]. Available: http://ifcopenshell.org/ [Last accessed: May 25, 2019]  \n",
    "[4] C. Zhang, *IFC-to-WKT Converter* 2018. [Online]. Available: [https://github.com/BenzclyZhang/IFC-to-WKT_Converter](https://github.com/BenzclyZhang/IFC-to-WKT_Converter) [Last accessed: May 25, 2019]  "
   ]
  },
  {
   "cell_type": "code",
   "execution_count": null,
   "metadata": {},
   "outputs": [],
   "source": []
  }
 ],
 "metadata": {
  "kernelspec": {
   "display_name": "Python 3",
   "language": "python",
   "name": "python3"
  },
  "language_info": {
   "codemirror_mode": {
    "name": "ipython",
    "version": 3
   },
   "file_extension": ".py",
   "mimetype": "text/x-python",
   "name": "python",
   "nbconvert_exporter": "python",
   "pygments_lexer": "ipython3",
   "version": "3.7.3"
  }
 },
 "nbformat": 4,
 "nbformat_minor": 2
}
